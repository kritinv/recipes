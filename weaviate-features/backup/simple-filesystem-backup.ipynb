{
 "cells": [
  {
   "cell_type": "markdown",
   "metadata": {},
   "source": [
    "# Simple Backup\n",
    "\n",
    "This is a simple example on how  to use backup. We will run Weaviate Embedded, and will need to enable the [backup-filesystem](https://weaviate.io/developers/weaviate/configuration/backups#filesystem) module at the environment variable `ENABLE_MODULES`  and provide a `BACKUP_FILESYSTEM_PATH` where backups can be created to and restored from.\n",
    "\n",
    "**Note**: the backup-filesystem is only suitable for single node clusters. For multi-node cluster you need to use a remote bucket, such as Minio, S3, GCP, et c"
   ]
  },
  {
   "cell_type": "code",
   "execution_count": null,
   "metadata": {},
   "outputs": [],
   "source": [
    "import os\n",
    "import weaviate\n",
    "\n",
    "client = weaviate.connect_to_embedded(\n",
    "    version=\"1.29.0\",\n",
    "    environment_variables={\n",
    "        \"ENABLE_MODULES\": \"backup-filesystem\",\n",
    "        \"BACKUP_FILESYSTEM_PATH\": \"/tmp/weaviate-backup\",\n",
    "    },\n",
    ")"
   ]
  },
  {
   "cell_type": "code",
   "execution_count": 2,
   "metadata": {},
   "outputs": [],
   "source": [
    "# now, let's create our backup folder\n",
    "os.makedirs(\"/tmp/weaviate-backup\", exist_ok=True)"
   ]
  },
  {
   "cell_type": "code",
   "execution_count": 3,
   "metadata": {},
   "outputs": [
    {
     "data": {
      "text/plain": [
       "{}"
      ]
     },
     "execution_count": 3,
     "metadata": {},
     "output_type": "execute_result"
    }
   ],
   "source": [
    "# those are the collections we have\n",
    "client.collections.list_all()"
   ]
  },
  {
   "cell_type": "code",
   "execution_count": 4,
   "metadata": {},
   "outputs": [
    {
     "name": "stderr",
     "output_type": "stream",
     "text": [
      "{\"build_git_commit\":\"35d800d9b9\",\"build_go_version\":\"go1.24.0\",\"build_image_tag\":\"HEAD\",\"build_wv_version\":\"1.29.0\",\"level\":\"warning\",\"msg\":\"prop len tracker file /Users/dudanogueira/.local/share/weaviate/collection1/3C7soUcZW0ow/proplengths does not exist, creating new tracker\",\"time\":\"2025-02-19T11:31:00-03:00\"}\n",
      "{\"action\":\"hnsw_prefill_cache_async\",\"build_git_commit\":\"35d800d9b9\",\"build_go_version\":\"go1.24.0\",\"build_image_tag\":\"HEAD\",\"build_wv_version\":\"1.29.0\",\"level\":\"info\",\"msg\":\"not waiting for vector cache prefill, running in background\",\"time\":\"2025-02-19T11:31:00-03:00\",\"wait_for_cache_prefill\":false}\n",
      "{\"build_git_commit\":\"35d800d9b9\",\"build_go_version\":\"go1.24.0\",\"build_image_tag\":\"HEAD\",\"build_wv_version\":\"1.29.0\",\"level\":\"info\",\"msg\":\"Created shard collection1_3C7soUcZW0ow in 1.599125ms\",\"time\":\"2025-02-19T11:31:00-03:00\"}\n",
      "{\"action\":\"hnsw_vector_cache_prefill\",\"build_git_commit\":\"35d800d9b9\",\"build_go_version\":\"go1.24.0\",\"build_image_tag\":\"HEAD\",\"build_wv_version\":\"1.29.0\",\"count\":1000,\"index_id\":\"main\",\"level\":\"info\",\"limit\":1000000000000,\"msg\":\"prefilled vector cache\",\"time\":\"2025-02-19T11:31:00-03:00\",\"took\":50834}\n",
      "{\"build_git_commit\":\"35d800d9b9\",\"build_go_version\":\"go1.24.0\",\"build_image_tag\":\"HEAD\",\"build_wv_version\":\"1.29.0\",\"level\":\"warning\",\"msg\":\"prop len tracker file /Users/dudanogueira/.local/share/weaviate/collection2/7amFgS16Wh3i/proplengths does not exist, creating new tracker\",\"time\":\"2025-02-19T11:31:00-03:00\"}\n",
      "{\"action\":\"hnsw_prefill_cache_async\",\"build_git_commit\":\"35d800d9b9\",\"build_go_version\":\"go1.24.0\",\"build_image_tag\":\"HEAD\",\"build_wv_version\":\"1.29.0\",\"level\":\"info\",\"msg\":\"not waiting for vector cache prefill, running in background\",\"time\":\"2025-02-19T11:31:00-03:00\",\"wait_for_cache_prefill\":false}\n",
      "{\"build_git_commit\":\"35d800d9b9\",\"build_go_version\":\"go1.24.0\",\"build_image_tag\":\"HEAD\",\"build_wv_version\":\"1.29.0\",\"level\":\"info\",\"msg\":\"Created shard collection2_7amFgS16Wh3i in 1.321125ms\",\"time\":\"2025-02-19T11:31:00-03:00\"}\n",
      "{\"action\":\"hnsw_vector_cache_prefill\",\"build_git_commit\":\"35d800d9b9\",\"build_go_version\":\"go1.24.0\",\"build_image_tag\":\"HEAD\",\"build_wv_version\":\"1.29.0\",\"count\":1000,\"index_id\":\"main\",\"level\":\"info\",\"limit\":1000000000000,\"msg\":\"prefilled vector cache\",\"time\":\"2025-02-19T11:31:00-03:00\",\"took\":35250}\n"
     ]
    },
    {
     "data": {
      "text/plain": [
       "UUID('cc0c13fe-ef43-4607-8136-f84b9b21085b')"
      ]
     },
     "execution_count": 4,
     "metadata": {},
     "output_type": "execute_result"
    }
   ],
   "source": [
    "# lets create some collections\n",
    "client.collections.delete([\"Collection1\", \"Collection2\"])\n",
    "c1 = client.collections.create(\"Collection1\")\n",
    "c2 = client.collections.create(\"Collection2\")\n",
    "# and insert some content\n",
    "c1.data.insert({\"name\": \"John Doe\"}, vector=[1,2,3])\n",
    "c2.data.insert({\"name\": \"Mary Jane\"}, vector=[3,2,1])"
   ]
  },
  {
   "cell_type": "code",
   "execution_count": 5,
   "metadata": {},
   "outputs": [
    {
     "name": "stdout",
     "output_type": "stream",
     "text": [
      "Backup my-new-backup was triggered successfully!\n"
     ]
    },
    {
     "name": "stderr",
     "output_type": "stream",
     "text": [
      "{\"action\":\"try_backup\",\"backend\":\"filesystem\",\"backup_id\":\"my-new-backup\",\"build_git_commit\":\"35d800d9b9\",\"build_go_version\":\"go1.24.0\",\"build_image_tag\":\"HEAD\",\"build_wv_version\":\"1.29.0\",\"level\":\"info\",\"msg\":\"\",\"time\":\"2025-02-19T11:31:34-03:00\",\"took\":3721250}\n"
     ]
    },
    {
     "name": "stderr",
     "output_type": "stream",
     "text": [
      "{\"build_git_commit\":\"35d800d9b9\",\"build_go_version\":\"go1.24.0\",\"build_image_tag\":\"HEAD\",\"build_wv_version\":\"1.29.0\",\"class\":\"Collection1\",\"level\":\"info\",\"msg\":\"start uploading files\",\"time\":\"2025-02-19T11:31:34-03:00\"}\n",
      "{\"build_git_commit\":\"35d800d9b9\",\"build_go_version\":\"go1.24.0\",\"build_image_tag\":\"HEAD\",\"build_wv_version\":\"1.29.0\",\"class\":\"Collection1\",\"level\":\"info\",\"msg\":\"finish uploading files\",\"time\":\"2025-02-19T11:31:34-03:00\"}\n",
      "{\"backup_id\":\"my-new-backup\",\"build_git_commit\":\"35d800d9b9\",\"build_go_version\":\"go1.24.0\",\"build_image_tag\":\"HEAD\",\"build_wv_version\":\"1.29.0\",\"class\":\"Collection1\",\"level\":\"info\",\"msg\":\"release backup\",\"time\":\"2025-02-19T11:31:34-03:00\"}\n",
      "{\"build_git_commit\":\"35d800d9b9\",\"build_go_version\":\"go1.24.0\",\"build_image_tag\":\"HEAD\",\"build_wv_version\":\"1.29.0\",\"class\":\"Collection2\",\"level\":\"info\",\"msg\":\"start uploading files\",\"time\":\"2025-02-19T11:31:34-03:00\"}\n",
      "{\"build_git_commit\":\"35d800d9b9\",\"build_go_version\":\"go1.24.0\",\"build_image_tag\":\"HEAD\",\"build_wv_version\":\"1.29.0\",\"class\":\"Collection2\",\"level\":\"info\",\"msg\":\"finish uploading files\",\"time\":\"2025-02-19T11:31:34-03:00\"}\n",
      "{\"backup_id\":\"my-new-backup\",\"build_git_commit\":\"35d800d9b9\",\"build_go_version\":\"go1.24.0\",\"build_image_tag\":\"HEAD\",\"build_wv_version\":\"1.29.0\",\"class\":\"Collection2\",\"level\":\"info\",\"msg\":\"release backup\",\"time\":\"2025-02-19T11:31:34-03:00\"}\n",
      "{\"build_git_commit\":\"35d800d9b9\",\"build_go_version\":\"go1.24.0\",\"build_image_tag\":\"HEAD\",\"build_wv_version\":\"1.29.0\",\"level\":\"info\",\"msg\":\"start uploading meta data\",\"time\":\"2025-02-19T11:31:34-03:00\"}\n",
      "{\"backup_id\":\"my-new-backup\",\"build_git_commit\":\"35d800d9b9\",\"build_go_version\":\"go1.24.0\",\"build_image_tag\":\"HEAD\",\"build_wv_version\":\"1.29.0\",\"class\":\"Collection2\",\"level\":\"info\",\"msg\":\"release backup\",\"time\":\"2025-02-19T11:31:34-03:00\"}\n",
      "{\"backup_id\":\"my-new-backup\",\"build_git_commit\":\"35d800d9b9\",\"build_go_version\":\"go1.24.0\",\"build_image_tag\":\"HEAD\",\"build_wv_version\":\"1.29.0\",\"class\":\"Collection1\",\"level\":\"info\",\"msg\":\"release backup\",\"time\":\"2025-02-19T11:31:34-03:00\"}\n",
      "{\"build_git_commit\":\"35d800d9b9\",\"build_go_version\":\"go1.24.0\",\"build_image_tag\":\"HEAD\",\"build_wv_version\":\"1.29.0\",\"level\":\"info\",\"msg\":\"finish uploading meta data\",\"time\":\"2025-02-19T11:31:34-03:00\"}\n",
      "{\"action\":\"create_backup\",\"backup_id\":\"my-new-backup\",\"build_git_commit\":\"35d800d9b9\",\"build_go_version\":\"go1.24.0\",\"build_image_tag\":\"HEAD\",\"build_wv_version\":\"1.29.0\",\"level\":\"info\",\"msg\":\"backup completed successfully\",\"override_bucket\":\"\",\"override_path\":\"\",\"time\":\"2025-02-19T11:31:34-03:00\"}\n",
      "{\"action\":\"create\",\"backup_id\":\"my-new-backup\",\"build_git_commit\":\"35d800d9b9\",\"build_go_version\":\"go1.24.0\",\"build_image_tag\":\"HEAD\",\"build_wv_version\":\"1.29.0\",\"level\":\"info\",\"msg\":\"coordinator: backup completed successfully\",\"time\":\"2025-02-19T11:31:36-03:00\"}\n",
      "{\"action\":\"hnsw_condensing\",\"build_git_commit\":\"35d800d9b9\",\"build_go_version\":\"go1.24.0\",\"build_image_tag\":\"HEAD\",\"build_wv_version\":\"1.29.0\",\"level\":\"info\",\"msg\":\"start hnsw condensing\",\"time\":\"2025-02-19T11:31:41-03:00\"}\n",
      "{\"action\":\"hnsw_condensing_complete\",\"build_git_commit\":\"35d800d9b9\",\"build_go_version\":\"go1.24.0\",\"build_image_tag\":\"HEAD\",\"build_wv_version\":\"1.29.0\",\"level\":\"info\",\"msg\":\"completed hnsw condensing\",\"time\":\"2025-02-19T11:31:41-03:00\"}\n",
      "{\"action\":\"hnsw_condensing\",\"build_git_commit\":\"35d800d9b9\",\"build_go_version\":\"go1.24.0\",\"build_image_tag\":\"HEAD\",\"build_wv_version\":\"1.29.0\",\"level\":\"info\",\"msg\":\"start hnsw condensing\",\"time\":\"2025-02-19T11:31:41-03:00\"}\n",
      "{\"action\":\"hnsw_condensing_complete\",\"build_git_commit\":\"35d800d9b9\",\"build_go_version\":\"go1.24.0\",\"build_image_tag\":\"HEAD\",\"build_wv_version\":\"1.29.0\",\"level\":\"info\",\"msg\":\"completed hnsw condensing\",\"time\":\"2025-02-19T11:31:41-03:00\"}\n"
     ]
    }
   ],
   "source": [
    "# as we are using backup-filesystem, we need to provide both the backup id and the backend\n",
    "my_backup_id = \"my-new-backup\"\n",
    "backup = client.backup.create(\n",
    "    backup_id=my_backup_id, \n",
    "    backend=\"filesystem\",\n",
    "    wait_for_completion=False # we don't want to wait for the backup to finish\n",
    ")\n",
    "if backup.error:\n",
    "    print(f\"Oh No! Something went wrong while creating {backup.backup_id}\")\n",
    "else:\n",
    "    print(f\"Backup {backup.backup_id} was triggered successfully!\")"
   ]
  },
  {
   "cell_type": "code",
   "execution_count": 6,
   "metadata": {},
   "outputs": [
    {
     "name": "stderr",
     "output_type": "stream",
     "text": [
      "{\"action\":\"backup_status\",\"backend\":\"filesystem\",\"backup_id\":\"my-new-backup\",\"build_git_commit\":\"35d800d9b9\",\"build_go_version\":\"go1.24.0\",\"build_image_tag\":\"HEAD\",\"build_wv_version\":\"1.29.0\",\"level\":\"info\",\"msg\":\"\",\"time\":\"2025-02-19T11:31:47-03:00\",\"took\":163541}\n"
     ]
    }
   ],
   "source": [
    "# now we can check the status of our backup\n",
    "backup_status = client.backup.get_create_status(\n",
    "    backup_id=my_backup_id,\n",
    "    backend=\"filesystem\"\n",
    ")"
   ]
  },
  {
   "cell_type": "code",
   "execution_count": 7,
   "metadata": {},
   "outputs": [
    {
     "name": "stdout",
     "output_type": "stream",
     "text": [
      "error=None status=<BackupStatus.SUCCESS: 'SUCCESS'> path='/tmp/weaviate-backup/my-new-backup' backup_id='my-new-backup'\n"
     ]
    }
   ],
   "source": [
    "print(backup_status)"
   ]
  },
  {
   "cell_type": "code",
   "execution_count": 8,
   "metadata": {},
   "outputs": [
    {
     "data": {
      "text/plain": [
       "['backup_config.json', 'Embedded_at_8079']"
      ]
     },
     "execution_count": 8,
     "metadata": {},
     "output_type": "execute_result"
    }
   ],
   "source": [
    "# We can also list\n",
    "os.listdir(f\"/tmp/weaviate-backup/{my_backup_id}\")"
   ]
  },
  {
   "cell_type": "code",
   "execution_count": 9,
   "metadata": {},
   "outputs": [
    {
     "name": "stdout",
     "output_type": "stream",
     "text": [
      "{'startedAt': '2025-02-19T14:31:34.80344Z', 'completedAt': '2025-02-19T14:31:36.809093Z', 'id': 'my-new-backup', 'nodes': {'Embedded_at_8079': {'classes': ['Collection1', 'Collection2'], 'status': 'SUCCESS', 'error': ''}}, 'node_mapping': None, 'status': 'SUCCESS', 'version': '2.1', 'serverVersion': '1.29.0', 'leader': 'Embedded_at_8079', 'error': ''}\n"
     ]
    }
   ],
   "source": [
    "# now lets read the content of /tmp/weaviate-backup/{my_backup_id}/backup_config.json\n",
    "# and check the content\n",
    "import json\n",
    "with open(\"/tmp/weaviate-backup/my-new-backup/backup_config.json\", \"r\") as f:\n",
    "    backup_config = json.load(f)\n",
    "    print(backup_config)"
   ]
  },
  {
   "cell_type": "code",
   "execution_count": 10,
   "metadata": {},
   "outputs": [],
   "source": [
    "# We can now delete our collections, and restore from that backup\n",
    "client.collections.delete([\"Collection1\", \"Collection2\"])"
   ]
  },
  {
   "cell_type": "code",
   "execution_count": 11,
   "metadata": {},
   "outputs": [
    {
     "data": {
      "text/plain": [
       "False"
      ]
     },
     "execution_count": 11,
     "metadata": {},
     "output_type": "execute_result"
    }
   ],
   "source": [
    "client.collections.exists(\"Collection1\")"
   ]
  },
  {
   "cell_type": "code",
   "execution_count": 12,
   "metadata": {},
   "outputs": [
    {
     "name": "stderr",
     "output_type": "stream",
     "text": [
      "{\"action\":\"try_restore\",\"backend\":\"filesystem\",\"backup_id\":\"my-new-backup\",\"build_git_commit\":\"35d800d9b9\",\"build_go_version\":\"go1.24.0\",\"build_image_tag\":\"HEAD\",\"build_wv_version\":\"1.29.0\",\"level\":\"info\",\"msg\":\"\",\"time\":\"2025-02-19T11:32:20-03:00\",\"took\":3130958}\n",
      "{\"action\":\"restore\",\"backup_id\":\"my-new-backup\",\"build_git_commit\":\"35d800d9b9\",\"build_go_version\":\"go1.24.0\",\"build_image_tag\":\"HEAD\",\"build_wv_version\":\"1.29.0\",\"class\":\"Collection1\",\"level\":\"info\",\"msg\":\"successfully restored\",\"time\":\"2025-02-19T11:32:20-03:00\"}\n",
      "{\"action\":\"restore\",\"backup_id\":\"my-new-backup\",\"build_git_commit\":\"35d800d9b9\",\"build_go_version\":\"go1.24.0\",\"build_image_tag\":\"HEAD\",\"build_wv_version\":\"1.29.0\",\"level\":\"info\",\"msg\":\"backup restored successfully\",\"time\":\"2025-02-19T11:32:20-03:00\"}\n"
     ]
    },
    {
     "name": "stderr",
     "output_type": "stream",
     "text": [
      "{\"action\":\"restore\",\"backup_id\":\"my-new-backup\",\"build_git_commit\":\"35d800d9b9\",\"build_go_version\":\"go1.24.0\",\"build_image_tag\":\"HEAD\",\"build_wv_version\":\"1.29.0\",\"level\":\"info\",\"msg\":\"coordinator: backup restored successfully\",\"time\":\"2025-02-19T11:32:22-03:00\"}\n"
     ]
    }
   ],
   "source": [
    "# we can specify the collections we want to restore\n",
    "restore = client.backup.restore(backup_id=my_backup_id, backend=\"filesystem\", include_collections=[\"Collection1\"])"
   ]
  },
  {
   "cell_type": "code",
   "execution_count": 13,
   "metadata": {},
   "outputs": [
    {
     "data": {
      "text/plain": [
       "True"
      ]
     },
     "execution_count": 13,
     "metadata": {},
     "output_type": "execute_result"
    },
    {
     "name": "stderr",
     "output_type": "stream",
     "text": [
      "{\"action\":\"hnsw_prefill_cache_async\",\"build_git_commit\":\"35d800d9b9\",\"build_go_version\":\"go1.24.0\",\"build_image_tag\":\"HEAD\",\"build_wv_version\":\"1.29.0\",\"level\":\"info\",\"msg\":\"not waiting for vector cache prefill, running in background\",\"time\":\"2025-02-19T11:32:23-03:00\",\"wait_for_cache_prefill\":false}\n",
      "{\"build_git_commit\":\"35d800d9b9\",\"build_go_version\":\"go1.24.0\",\"build_image_tag\":\"HEAD\",\"build_wv_version\":\"1.29.0\",\"level\":\"info\",\"msg\":\"Completed loading shard collection1_3C7soUcZW0ow in 1.222708ms\",\"time\":\"2025-02-19T11:32:23-03:00\"}\n",
      "{\"action\":\"hnsw_vector_cache_prefill\",\"build_git_commit\":\"35d800d9b9\",\"build_go_version\":\"go1.24.0\",\"build_image_tag\":\"HEAD\",\"build_wv_version\":\"1.29.0\",\"count\":3000,\"index_id\":\"main\",\"level\":\"info\",\"limit\":1000000000000,\"msg\":\"prefilled vector cache\",\"time\":\"2025-02-19T11:32:23-03:00\",\"took\":40041}\n"
     ]
    }
   ],
   "source": [
    "client.collections.exists(\"Collection1\")"
   ]
  },
  {
   "cell_type": "code",
   "execution_count": 14,
   "metadata": {},
   "outputs": [
    {
     "name": "stdout",
     "output_type": "stream",
     "text": [
      "{'name': 'John Doe'}\n"
     ]
    }
   ],
   "source": [
    "col1 = client.collections.get(\"Collection1\")\n",
    "print(col1.query.fetch_objects().objects[0].properties)"
   ]
  }
 ],
 "metadata": {
  "kernelspec": {
   "display_name": ".venv",
   "language": "python",
   "name": "python3"
  },
  "language_info": {
   "codemirror_mode": {
    "name": "ipython",
    "version": 3
   },
   "file_extension": ".py",
   "mimetype": "text/x-python",
   "name": "python",
   "nbconvert_exporter": "python",
   "pygments_lexer": "ipython3",
   "version": "3.12.8"
  }
 },
 "nbformat": 4,
 "nbformat_minor": 2
}
